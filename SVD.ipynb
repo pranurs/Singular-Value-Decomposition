{
 "cells": [
  {
   "cell_type": "code",
   "execution_count": null,
   "metadata": {},
   "outputs": [],
   "source": [
    "import scipy\n",
    "from scipy import linalg\n",
    "import numpy as np\n",
    "import math\n",
    "import pickle\n",
    "from tqdm import tqdm_notebook\n",
    "import time"
   ]
  },
  {
   "cell_type": "code",
   "execution_count": null,
   "metadata": {},
   "outputs": [],
   "source": [
    "np.set_printoptions(threshold = 10000)"
   ]
  },
  {
   "cell_type": "code",
   "execution_count": null,
   "metadata": {},
   "outputs": [],
   "source": [
    "def svd(A):\n",
    "    \n",
    "    A_AT = np.matmul(rating_matrix, rating_matrix.T)\n",
    "    w_U, U = scipy.linalg.eig(A_AT)\n",
    "    \n",
    "    U_sorted = sorted(zip(w_U, U.T), key = lambda x : x[0], reverse = True) \n",
    "\n",
    "    s = np.zeros(len(U_sorted), dtype = complex)\n",
    "    u = np.array([np.zeros(len(U_sorted[0][1]), dtype = complex) for i in range(len(U_sorted))])\n",
    "\n",
    "    for i in range(len(w_U)):\n",
    "        if np.isclose(U_sorted[i][0].imag, 0) and np.isclose(U_sorted[i][0].real,0):\n",
    "            u[i] = np.array([complex(0,0) for i in range(len(U_sorted[i][1]))])\n",
    "            s[i] = 0\n",
    "        else:\n",
    "            u[i] = U_sorted[i][1]\n",
    "            s[i] = U_sorted[i][0]\n",
    "\n",
    "    u = u.T\n",
    "    \n",
    "    u = u.real\n",
    "    s = s.real\n",
    "    s = s**0.5\n",
    "    s = s[:min(A.shape)]\n",
    "    \n",
    "    v = np.array([np.zeros(np.shape(A.T)[0]) for i in range(s.shape[0])], dtype = float)\n",
    "    \n",
    "    for i in tqdm_notebook(range(len(s))):\n",
    "        if not np.isclose(s[i],0):\n",
    "            v[:,i] = np.matmul(A.T, u[:,i])/s[i]\n",
    "            \n",
    "    return u, s, v"
   ]
  },
  {
   "cell_type": "code",
   "execution_count": null,
   "metadata": {},
   "outputs": [],
   "source": [
    "def energize_me (s, threshold) :\n",
    "    \n",
    "    total_energy = sum(s ** 2)\n",
    "    curr_energy = 0\n",
    "    activation_energy = total_energy * threshold\n",
    "    index = 0\n",
    "    energy_portion = []\n",
    "    \n",
    "    while curr_energy <  activation_energy:\n",
    "        \n",
    "        curr_energy += s[index] ** 2\n",
    "        energy_portion.append(s[index])\n",
    "        index += 1\n",
    "        \n",
    "    return np.array(energy_portion)        "
   ]
  },
  {
   "cell_type": "code",
   "execution_count": null,
   "metadata": {},
   "outputs": [],
   "source": [
    "def evaluate(prediction, actual):\n",
    "    \n",
    "    N = actual.shape[0]*actual.shape[1]\n",
    "    \n",
    "    rmse = (np.sum((prediction - actual)**2)/N)**0.5\n",
    "    mae = np.sum(abs(prediction - actual))/N\n",
    "    \n",
    "    return rmse, mae"
   ]
  },
  {
   "cell_type": "code",
   "execution_count": null,
   "metadata": {},
   "outputs": [],
   "source": [
    "if __name__ == '__main__':\n",
    "    \n",
    "    with open(\"ratingsMatrix_noZeros.pickle\", 'rb') as file:\n",
    "        rating_matrix = pickle.load(file)\n",
    "    \n",
    "    # uSVD, sSVD, vhSVD = np.linalg.svd(rating_matrix, full_matrices=True)\n",
    "    \n",
    "    start = time.time()\n",
    "    u, s, v = svd(rating_matrix)\n",
    "    tmp = np.multiply(u[:, :len(s)], s)\n",
    "    reconstructed = np.matmul(tmp, v.T) \n",
    "    print(time.time() - start) # 189.43088269233704\n",
    "    \n",
    "    evaluate(reconstructed, rating_matrix)\n",
    "    # (3.187548670659706e-12, 2.2279925927069606e-12)\n",
    "    \n",
    "    s90 = energize_me(s, 0.90)\n",
    "    tmp = np.multiply(u[:, :len(s90)], s90)\n",
    "    reconstructed90 = np.matmul(tmp, v.T[:len(s90), :])\n",
    "    reconstructed90 = np.matmul(np.matmul(u[:, :len(s90)], np.diag(s90)), v.T[:len(s90), :])\n",
    "    \n",
    "    evaluate(reconstructed90, rating_matrix)\n",
    "    # (0.250737665891037, 0.14061418179187507)\n",
    "    \n",
    "#     with open('u.pickle', 'wb') as file:\n",
    "#         pickle.dump(u,file)\n",
    "#     with open('s.pickle', 'wb') as file:\n",
    "#         pickle.dump(s,file)\n",
    "#     with open('v.pickle', 'wb') as file:\n",
    "#         pickle.dump(v,file)\n",
    "        \n",
    "#     with open('u.pickle', 'rb') as file:\n",
    "#         u1 = pickle.load(file)\n",
    "#     with open('s.pickle', 'rb') as file:\n",
    "#         s1 = pickle.load(file)\n",
    "#     with open('v.pickle', 'rb') as file:\n",
    "#         v1 = pickle.load(file)"
   ]
  },
  {
   "cell_type": "code",
   "execution_count": null,
   "metadata": {},
   "outputs": [],
   "source": []
  }
 ],
 "metadata": {
  "kernelspec": {
   "display_name": "Python 3",
   "language": "python",
   "name": "python3"
  },
  "language_info": {
   "codemirror_mode": {
    "name": "ipython",
    "version": 3
   },
   "file_extension": ".py",
   "mimetype": "text/x-python",
   "name": "python",
   "nbconvert_exporter": "python",
   "pygments_lexer": "ipython3",
   "version": "3.7.3"
  }
 },
 "nbformat": 4,
 "nbformat_minor": 2
}
